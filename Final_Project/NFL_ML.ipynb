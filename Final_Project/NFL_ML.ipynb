{
 "cells": [
  {
   "cell_type": "markdown",
   "metadata": {},
   "source": [
    "# NFL Final Project"
   ]
  },
  {
   "cell_type": "markdown",
   "metadata": {},
   "source": [
    "### Dependencies"
   ]
  },
  {
   "cell_type": "code",
   "execution_count": null,
   "metadata": {},
   "outputs": [],
   "source": [
    "import pandas as pd\n",
    "import numpy as np\n",
    "import matplotlib.pyplot as plt\n",
    "\n",
    "from sklearn.preprocessing import StandardScaler\n",
    "from sklearn import preprocessing\n",
    "from sklearn.model_selection import train_test_split\n",
    "from sklearn.metrics import confusion_matrix\n",
    "from sklearn.metrics import accuracy_score\n",
    "from sklearn.model_selection import cross_val_score\n",
    "from sklearn.tree import DecisionTreeClassifier"
   ]
  },
  {
   "cell_type": "code",
   "execution_count": null,
   "metadata": {},
   "outputs": [],
   "source": [
    "%matplotlib inline\n",
    "\n",
    "from sklearn.metrics import brier_score_loss, roc_auc_score\n",
    "from sklearn.linear_model import LogisticRegression\n",
    "from sklearn.tree import DecisionTreeClassifier\n",
    "from sklearn.neural_network import MLPClassifier\n",
    "from sklearn.calibration import CalibratedClassifierCV as CCV\n",
    "from sklearn.ensemble import RandomForestClassifier, AdaBoostClassifier, VotingClassifier\n",
    "from sklearn import model_selection\n",
    "from sklearn.discriminant_analysis import LinearDiscriminantAnalysis as LDA\n",
    "from sklearn.naive_bayes import GaussianNB\n",
    "from sklearn.feature_selection import RFE"
   ]
  },
  {
   "cell_type": "code",
   "execution_count": null,
   "metadata": {},
   "outputs": [],
   "source": [
    "import tensorflow as tf\n",
    "from tensorflow import keras\n",
    "from tensorflow.keras import optimizers\n",
    "from tensorflow.keras.layers import Dense\n",
    "from tensorflow.keras.models import Sequential \n",
    "\n",
    "import seaborn as sb"
   ]
  },
  {
   "cell_type": "markdown",
   "metadata": {},
   "source": [
    "### Wrangle Data"
   ]
  },
  {
   "cell_type": "code",
   "execution_count": 5,
   "metadata": {},
   "outputs": [],
   "source": [
    "# set variables\n",
    "data = pd.read_csv(\"nfl-data/scores.csv\")\n",
    "teams = pd.read_csv(\"nfl-data/teams.csv\")\n",
    "\n",
    "# clean empty cells\n",
    "data = data.replace(r'^\\s*$', np.nan, regex=True)\n",
    "# select data with over/under and spread\n",
    "data = data[(data.over_under_line.isnull() == False) & (data.spread_favorite.isnull() == False)]\n",
    "data.reset_index(drop=True, inplace=True)\n",
    "#convert data type\n",
    "data['over_under_line'] = data.over_under_line.astype(float)\n",
    "# reference team id\n",
    "data['team_home'] = data.team_home.map(teams.set_index('team_name')['team_id'].to_dict())\n",
    "data['team_away'] = data.team_away.map(teams.set_index('team_name')['team_id'].to_dict())\n",
    "# drop columns \n",
    "data = data[['schedule_date', 'schedule_season', 'schedule_week', 'team_home',\n",
    "       'team_away', 'team_favorite_id', 'spread_favorite',\n",
    "       'over_under_line', 'score_home', 'score_away',\n",
    "       'stadium_neutral']]\n",
    "#home and away favorites\n",
    "data['home_fav'] = (data.team_home == data.team_favorite_id).astype(int)\n",
    "data['away_fav'] = (data.team_away == data.team_favorite_id).astype(int)\n",
    "#final result array\n",
    "data['result'] = (data.score_home > data.score_away).astype(int)"
   ]
  },
  {
   "cell_type": "markdown",
   "metadata": {},
   "source": [
    "### Explore Data"
   ]
  },
  {
   "cell_type": "code",
   "execution_count": 3,
   "metadata": {},
   "outputs": [
    {
     "ename": "NameError",
     "evalue": "name 'data' is not defined",
     "output_type": "error",
     "traceback": [
      "\u001b[0;31m---------------------------------------------------------------------------\u001b[0m",
      "\u001b[0;31mNameError\u001b[0m                                 Traceback (most recent call last)",
      "\u001b[0;32m<ipython-input-3-0ce3866f96b0>\u001b[0m in \u001b[0;36m<module>\u001b[0;34m\u001b[0m\n\u001b[0;32m----> 1\u001b[0;31m \u001b[0mdata\u001b[0m\u001b[0;34m[\u001b[0m\u001b[0;36m50\u001b[0m\u001b[0;34m:\u001b[0m\u001b[0;36m60\u001b[0m\u001b[0;34m]\u001b[0m\u001b[0;34m\u001b[0m\u001b[0;34m\u001b[0m\u001b[0m\n\u001b[0m",
      "\u001b[0;31mNameError\u001b[0m: name 'data' is not defined"
     ]
    }
   ],
   "source": [
    "data[50:60]"
   ]
  },
  {
   "cell_type": "code",
   "execution_count": 4,
   "metadata": {},
   "outputs": [
    {
     "data": {
      "text/plain": [
       "(9860, 14)"
      ]
     },
     "execution_count": 4,
     "metadata": {},
     "output_type": "execute_result"
    }
   ],
   "source": [
    "data.shape"
   ]
  },
  {
   "cell_type": "code",
   "execution_count": 5,
   "metadata": {},
   "outputs": [
    {
     "data": {
      "text/html": [
       "<div>\n",
       "<style scoped>\n",
       "    .dataframe tbody tr th:only-of-type {\n",
       "        vertical-align: middle;\n",
       "    }\n",
       "\n",
       "    .dataframe tbody tr th {\n",
       "        vertical-align: top;\n",
       "    }\n",
       "\n",
       "    .dataframe thead th {\n",
       "        text-align: right;\n",
       "    }\n",
       "</style>\n",
       "<table border=\"1\" class=\"dataframe\">\n",
       "  <thead>\n",
       "    <tr style=\"text-align: right;\">\n",
       "      <th></th>\n",
       "      <th>schedule_season</th>\n",
       "      <th>spread_favorite</th>\n",
       "      <th>over_under_line</th>\n",
       "      <th>score_home</th>\n",
       "      <th>score_away</th>\n",
       "      <th>home_fav</th>\n",
       "      <th>away_fav</th>\n",
       "      <th>result</th>\n",
       "    </tr>\n",
       "  </thead>\n",
       "  <tbody>\n",
       "    <tr>\n",
       "      <th>count</th>\n",
       "      <td>9860.00</td>\n",
       "      <td>9860.00</td>\n",
       "      <td>9860.00</td>\n",
       "      <td>9860.00</td>\n",
       "      <td>9860.00</td>\n",
       "      <td>9860.00</td>\n",
       "      <td>9860.00</td>\n",
       "      <td>9860.00</td>\n",
       "    </tr>\n",
       "    <tr>\n",
       "      <th>mean</th>\n",
       "      <td>1999.46</td>\n",
       "      <td>-5.37</td>\n",
       "      <td>41.84</td>\n",
       "      <td>22.64</td>\n",
       "      <td>19.83</td>\n",
       "      <td>0.67</td>\n",
       "      <td>0.32</td>\n",
       "      <td>0.58</td>\n",
       "    </tr>\n",
       "    <tr>\n",
       "      <th>std</th>\n",
       "      <td>11.41</td>\n",
       "      <td>3.42</td>\n",
       "      <td>4.67</td>\n",
       "      <td>10.40</td>\n",
       "      <td>10.03</td>\n",
       "      <td>0.47</td>\n",
       "      <td>0.46</td>\n",
       "      <td>0.49</td>\n",
       "    </tr>\n",
       "    <tr>\n",
       "      <th>min</th>\n",
       "      <td>1967.00</td>\n",
       "      <td>-26.50</td>\n",
       "      <td>28.00</td>\n",
       "      <td>0.00</td>\n",
       "      <td>0.00</td>\n",
       "      <td>0.00</td>\n",
       "      <td>0.00</td>\n",
       "      <td>0.00</td>\n",
       "    </tr>\n",
       "    <tr>\n",
       "      <th>25%</th>\n",
       "      <td>1990.00</td>\n",
       "      <td>-7.00</td>\n",
       "      <td>38.00</td>\n",
       "      <td>16.00</td>\n",
       "      <td>13.00</td>\n",
       "      <td>0.00</td>\n",
       "      <td>0.00</td>\n",
       "      <td>0.00</td>\n",
       "    </tr>\n",
       "    <tr>\n",
       "      <th>50%</th>\n",
       "      <td>2000.00</td>\n",
       "      <td>-4.50</td>\n",
       "      <td>41.50</td>\n",
       "      <td>22.00</td>\n",
       "      <td>20.00</td>\n",
       "      <td>1.00</td>\n",
       "      <td>0.00</td>\n",
       "      <td>1.00</td>\n",
       "    </tr>\n",
       "    <tr>\n",
       "      <th>75%</th>\n",
       "      <td>2009.00</td>\n",
       "      <td>-3.00</td>\n",
       "      <td>45.00</td>\n",
       "      <td>30.00</td>\n",
       "      <td>27.00</td>\n",
       "      <td>1.00</td>\n",
       "      <td>1.00</td>\n",
       "      <td>1.00</td>\n",
       "    </tr>\n",
       "    <tr>\n",
       "      <th>max</th>\n",
       "      <td>2018.00</td>\n",
       "      <td>0.00</td>\n",
       "      <td>63.50</td>\n",
       "      <td>62.00</td>\n",
       "      <td>59.00</td>\n",
       "      <td>1.00</td>\n",
       "      <td>1.00</td>\n",
       "      <td>1.00</td>\n",
       "    </tr>\n",
       "  </tbody>\n",
       "</table>\n",
       "</div>"
      ],
      "text/plain": [
       "       schedule_season  spread_favorite  over_under_line  score_home  \\\n",
       "count          9860.00          9860.00          9860.00     9860.00   \n",
       "mean           1999.46            -5.37            41.84       22.64   \n",
       "std              11.41             3.42             4.67       10.40   \n",
       "min            1967.00           -26.50            28.00        0.00   \n",
       "25%            1990.00            -7.00            38.00       16.00   \n",
       "50%            2000.00            -4.50            41.50       22.00   \n",
       "75%            2009.00            -3.00            45.00       30.00   \n",
       "max            2018.00             0.00            63.50       62.00   \n",
       "\n",
       "       score_away  home_fav  away_fav   result  \n",
       "count     9860.00   9860.00   9860.00  9860.00  \n",
       "mean        19.83      0.67      0.32     0.58  \n",
       "std         10.03      0.47      0.46     0.49  \n",
       "min          0.00      0.00      0.00     0.00  \n",
       "25%         13.00      0.00      0.00     0.00  \n",
       "50%         20.00      1.00      0.00     1.00  \n",
       "75%         27.00      1.00      1.00     1.00  \n",
       "max         59.00      1.00      1.00     1.00  "
      ]
     },
     "execution_count": 5,
     "metadata": {},
     "output_type": "execute_result"
    }
   ],
   "source": [
    "data.describe().round(2)"
   ]
  },
  {
   "cell_type": "code",
   "execution_count": 6,
   "metadata": {
    "scrolled": true
   },
   "outputs": [
    {
     "data": {
      "text/html": [
       "<style  type=\"text/css\" >\n",
       "    #T_4a484bc0_19e3_11ea_a32f_71847e9e01b0row0_col0 {\n",
       "            background-color:  #b40426;\n",
       "            color:  #f1f1f1;\n",
       "        }    #T_4a484bc0_19e3_11ea_a32f_71847e9e01b0row0_col1 {\n",
       "            background-color:  #6f92f3;\n",
       "            color:  #000000;\n",
       "        }    #T_4a484bc0_19e3_11ea_a32f_71847e9e01b0row0_col2 {\n",
       "            background-color:  #b5cdfa;\n",
       "            color:  #000000;\n",
       "        }    #T_4a484bc0_19e3_11ea_a32f_71847e9e01b0row0_col3 {\n",
       "            background-color:  #85a8fc;\n",
       "            color:  #000000;\n",
       "        }    #T_4a484bc0_19e3_11ea_a32f_71847e9e01b0row0_col4 {\n",
       "            background-color:  #c5d6f2;\n",
       "            color:  #000000;\n",
       "        }    #T_4a484bc0_19e3_11ea_a32f_71847e9e01b0row0_col5 {\n",
       "            background-color:  #445acc;\n",
       "            color:  #f1f1f1;\n",
       "        }    #T_4a484bc0_19e3_11ea_a32f_71847e9e01b0row0_col6 {\n",
       "            background-color:  #d9dce1;\n",
       "            color:  #000000;\n",
       "        }    #T_4a484bc0_19e3_11ea_a32f_71847e9e01b0row0_col7 {\n",
       "            background-color:  #dedcdb;\n",
       "            color:  #000000;\n",
       "        }    #T_4a484bc0_19e3_11ea_a32f_71847e9e01b0row0_col8 {\n",
       "            background-color:  #b2ccfb;\n",
       "            color:  #000000;\n",
       "        }    #T_4a484bc0_19e3_11ea_a32f_71847e9e01b0row1_col0 {\n",
       "            background-color:  #3b4cc0;\n",
       "            color:  #f1f1f1;\n",
       "        }    #T_4a484bc0_19e3_11ea_a32f_71847e9e01b0row1_col1 {\n",
       "            background-color:  #b40426;\n",
       "            color:  #f1f1f1;\n",
       "        }    #T_4a484bc0_19e3_11ea_a32f_71847e9e01b0row1_col2 {\n",
       "            background-color:  #3b4cc0;\n",
       "            color:  #f1f1f1;\n",
       "        }    #T_4a484bc0_19e3_11ea_a32f_71847e9e01b0row1_col3 {\n",
       "            background-color:  #4b64d5;\n",
       "            color:  #f1f1f1;\n",
       "        }    #T_4a484bc0_19e3_11ea_a32f_71847e9e01b0row1_col4 {\n",
       "            background-color:  #ccd9ed;\n",
       "            color:  #000000;\n",
       "        }    #T_4a484bc0_19e3_11ea_a32f_71847e9e01b0row1_col5 {\n",
       "            background-color:  #3c4ec2;\n",
       "            color:  #f1f1f1;\n",
       "        }    #T_4a484bc0_19e3_11ea_a32f_71847e9e01b0row1_col6 {\n",
       "            background-color:  #b9d0f9;\n",
       "            color:  #000000;\n",
       "        }    #T_4a484bc0_19e3_11ea_a32f_71847e9e01b0row1_col7 {\n",
       "            background-color:  #efcebd;\n",
       "            color:  #000000;\n",
       "        }    #T_4a484bc0_19e3_11ea_a32f_71847e9e01b0row1_col8 {\n",
       "            background-color:  #92b4fe;\n",
       "            color:  #000000;\n",
       "        }    #T_4a484bc0_19e3_11ea_a32f_71847e9e01b0row2_col0 {\n",
       "            background-color:  #adc9fd;\n",
       "            color:  #000000;\n",
       "        }    #T_4a484bc0_19e3_11ea_a32f_71847e9e01b0row2_col1 {\n",
       "            background-color:  #6485ec;\n",
       "            color:  #000000;\n",
       "        }    #T_4a484bc0_19e3_11ea_a32f_71847e9e01b0row2_col2 {\n",
       "            background-color:  #b40426;\n",
       "            color:  #f1f1f1;\n",
       "        }    #T_4a484bc0_19e3_11ea_a32f_71847e9e01b0row2_col3 {\n",
       "            background-color:  #aec9fc;\n",
       "            color:  #000000;\n",
       "        }    #T_4a484bc0_19e3_11ea_a32f_71847e9e01b0row2_col4 {\n",
       "            background-color:  #d9dce1;\n",
       "            color:  #000000;\n",
       "        }    #T_4a484bc0_19e3_11ea_a32f_71847e9e01b0row2_col5 {\n",
       "            background-color:  #4f69d9;\n",
       "            color:  #000000;\n",
       "        }    #T_4a484bc0_19e3_11ea_a32f_71847e9e01b0row2_col6 {\n",
       "            background-color:  #dbdcde;\n",
       "            color:  #000000;\n",
       "        }    #T_4a484bc0_19e3_11ea_a32f_71847e9e01b0row2_col7 {\n",
       "            background-color:  #dbdcde;\n",
       "            color:  #000000;\n",
       "        }    #T_4a484bc0_19e3_11ea_a32f_71847e9e01b0row2_col8 {\n",
       "            background-color:  #b5cdfa;\n",
       "            color:  #000000;\n",
       "        }    #T_4a484bc0_19e3_11ea_a32f_71847e9e01b0row3_col0 {\n",
       "            background-color:  #5470de;\n",
       "            color:  #000000;\n",
       "        }    #T_4a484bc0_19e3_11ea_a32f_71847e9e01b0row3_col1 {\n",
       "            background-color:  #4e68d8;\n",
       "            color:  #000000;\n",
       "        }    #T_4a484bc0_19e3_11ea_a32f_71847e9e01b0row3_col2 {\n",
       "            background-color:  #8caffe;\n",
       "            color:  #000000;\n",
       "        }    #T_4a484bc0_19e3_11ea_a32f_71847e9e01b0row3_col3 {\n",
       "            background-color:  #b40426;\n",
       "            color:  #f1f1f1;\n",
       "        }    #T_4a484bc0_19e3_11ea_a32f_71847e9e01b0row3_col4 {\n",
       "            background-color:  #aec9fc;\n",
       "            color:  #000000;\n",
       "        }    #T_4a484bc0_19e3_11ea_a32f_71847e9e01b0row3_col5 {\n",
       "            background-color:  #4055c8;\n",
       "            color:  #f1f1f1;\n",
       "        }    #T_4a484bc0_19e3_11ea_a32f_71847e9e01b0row3_col6 {\n",
       "            background-color:  #f2cab5;\n",
       "            color:  #000000;\n",
       "        }    #T_4a484bc0_19e3_11ea_a32f_71847e9e01b0row3_col7 {\n",
       "            background-color:  #bad0f8;\n",
       "            color:  #000000;\n",
       "        }    #T_4a484bc0_19e3_11ea_a32f_71847e9e01b0row3_col8 {\n",
       "            background-color:  #f7a98b;\n",
       "            color:  #000000;\n",
       "        }    #T_4a484bc0_19e3_11ea_a32f_71847e9e01b0row4_col0 {\n",
       "            background-color:  #5a78e4;\n",
       "            color:  #000000;\n",
       "        }    #T_4a484bc0_19e3_11ea_a32f_71847e9e01b0row4_col1 {\n",
       "            background-color:  #98b9ff;\n",
       "            color:  #000000;\n",
       "        }    #T_4a484bc0_19e3_11ea_a32f_71847e9e01b0row4_col2 {\n",
       "            background-color:  #89acfd;\n",
       "            color:  #000000;\n",
       "        }    #T_4a484bc0_19e3_11ea_a32f_71847e9e01b0row4_col3 {\n",
       "            background-color:  #6c8ff1;\n",
       "            color:  #000000;\n",
       "        }    #T_4a484bc0_19e3_11ea_a32f_71847e9e01b0row4_col4 {\n",
       "            background-color:  #b40426;\n",
       "            color:  #f1f1f1;\n",
       "        }    #T_4a484bc0_19e3_11ea_a32f_71847e9e01b0row4_col5 {\n",
       "            background-color:  #465ecf;\n",
       "            color:  #f1f1f1;\n",
       "        }    #T_4a484bc0_19e3_11ea_a32f_71847e9e01b0row4_col6 {\n",
       "            background-color:  #b9d0f9;\n",
       "            color:  #000000;\n",
       "        }    #T_4a484bc0_19e3_11ea_a32f_71847e9e01b0row4_col7 {\n",
       "            background-color:  #f2c9b4;\n",
       "            color:  #000000;\n",
       "        }    #T_4a484bc0_19e3_11ea_a32f_71847e9e01b0row4_col8 {\n",
       "            background-color:  #3b4cc0;\n",
       "            color:  #f1f1f1;\n",
       "        }    #T_4a484bc0_19e3_11ea_a32f_71847e9e01b0row5_col0 {\n",
       "            background-color:  #445acc;\n",
       "            color:  #f1f1f1;\n",
       "        }    #T_4a484bc0_19e3_11ea_a32f_71847e9e01b0row5_col1 {\n",
       "            background-color:  #7295f4;\n",
       "            color:  #000000;\n",
       "        }    #T_4a484bc0_19e3_11ea_a32f_71847e9e01b0row5_col2 {\n",
       "            background-color:  #5a78e4;\n",
       "            color:  #000000;\n",
       "        }    #T_4a484bc0_19e3_11ea_a32f_71847e9e01b0row5_col3 {\n",
       "            background-color:  #7396f5;\n",
       "            color:  #000000;\n",
       "        }    #T_4a484bc0_19e3_11ea_a32f_71847e9e01b0row5_col4 {\n",
       "            background-color:  #b9d0f9;\n",
       "            color:  #000000;\n",
       "        }    #T_4a484bc0_19e3_11ea_a32f_71847e9e01b0row5_col5 {\n",
       "            background-color:  #b40426;\n",
       "            color:  #f1f1f1;\n",
       "        }    #T_4a484bc0_19e3_11ea_a32f_71847e9e01b0row5_col6 {\n",
       "            background-color:  #d8dce2;\n",
       "            color:  #000000;\n",
       "        }    #T_4a484bc0_19e3_11ea_a32f_71847e9e01b0row5_col7 {\n",
       "            background-color:  #dedcdb;\n",
       "            color:  #000000;\n",
       "        }    #T_4a484bc0_19e3_11ea_a32f_71847e9e01b0row5_col8 {\n",
       "            background-color:  #afcafc;\n",
       "            color:  #000000;\n",
       "        }    #T_4a484bc0_19e3_11ea_a32f_71847e9e01b0row6_col0 {\n",
       "            background-color:  #3e51c5;\n",
       "            color:  #f1f1f1;\n",
       "        }    #T_4a484bc0_19e3_11ea_a32f_71847e9e01b0row6_col1 {\n",
       "            background-color:  #3b4cc0;\n",
       "            color:  #f1f1f1;\n",
       "        }    #T_4a484bc0_19e3_11ea_a32f_71847e9e01b0row6_col2 {\n",
       "            background-color:  #4c66d6;\n",
       "            color:  #000000;\n",
       "        }    #T_4a484bc0_19e3_11ea_a32f_71847e9e01b0row6_col3 {\n",
       "            background-color:  #b3cdfb;\n",
       "            color:  #000000;\n",
       "        }    #T_4a484bc0_19e3_11ea_a32f_71847e9e01b0row6_col4 {\n",
       "            background-color:  #81a4fb;\n",
       "            color:  #000000;\n",
       "        }    #T_4a484bc0_19e3_11ea_a32f_71847e9e01b0row6_col5 {\n",
       "            background-color:  #3b4cc0;\n",
       "            color:  #f1f1f1;\n",
       "        }    #T_4a484bc0_19e3_11ea_a32f_71847e9e01b0row6_col6 {\n",
       "            background-color:  #b40426;\n",
       "            color:  #f1f1f1;\n",
       "        }    #T_4a484bc0_19e3_11ea_a32f_71847e9e01b0row6_col7 {\n",
       "            background-color:  #3b4cc0;\n",
       "            color:  #f1f1f1;\n",
       "        }    #T_4a484bc0_19e3_11ea_a32f_71847e9e01b0row6_col8 {\n",
       "            background-color:  #e7d7ce;\n",
       "            color:  #000000;\n",
       "        }    #T_4a484bc0_19e3_11ea_a32f_71847e9e01b0row7_col0 {\n",
       "            background-color:  #485fd1;\n",
       "            color:  #f1f1f1;\n",
       "        }    #T_4a484bc0_19e3_11ea_a32f_71847e9e01b0row7_col1 {\n",
       "            background-color:  #a9c6fd;\n",
       "            color:  #000000;\n",
       "        }    #T_4a484bc0_19e3_11ea_a32f_71847e9e01b0row7_col2 {\n",
       "            background-color:  #4b64d5;\n",
       "            color:  #f1f1f1;\n",
       "        }    #T_4a484bc0_19e3_11ea_a32f_71847e9e01b0row7_col3 {\n",
       "            background-color:  #3b4cc0;\n",
       "            color:  #f1f1f1;\n",
       "        }    #T_4a484bc0_19e3_11ea_a32f_71847e9e01b0row7_col4 {\n",
       "            background-color:  #dfdbd9;\n",
       "            color:  #000000;\n",
       "        }    #T_4a484bc0_19e3_11ea_a32f_71847e9e01b0row7_col5 {\n",
       "            background-color:  #485fd1;\n",
       "            color:  #f1f1f1;\n",
       "        }    #T_4a484bc0_19e3_11ea_a32f_71847e9e01b0row7_col6 {\n",
       "            background-color:  #3b4cc0;\n",
       "            color:  #f1f1f1;\n",
       "        }    #T_4a484bc0_19e3_11ea_a32f_71847e9e01b0row7_col7 {\n",
       "            background-color:  #b40426;\n",
       "            color:  #f1f1f1;\n",
       "        }    #T_4a484bc0_19e3_11ea_a32f_71847e9e01b0row7_col8 {\n",
       "            background-color:  #7597f6;\n",
       "            color:  #000000;\n",
       "        }    #T_4a484bc0_19e3_11ea_a32f_71847e9e01b0row8_col0 {\n",
       "            background-color:  #3e51c5;\n",
       "            color:  #f1f1f1;\n",
       "        }    #T_4a484bc0_19e3_11ea_a32f_71847e9e01b0row8_col1 {\n",
       "            background-color:  #4c66d6;\n",
       "            color:  #000000;\n",
       "        }    #T_4a484bc0_19e3_11ea_a32f_71847e9e01b0row8_col2 {\n",
       "            background-color:  #4c66d6;\n",
       "            color:  #000000;\n",
       "        }    #T_4a484bc0_19e3_11ea_a32f_71847e9e01b0row8_col3 {\n",
       "            background-color:  #f5c4ac;\n",
       "            color:  #000000;\n",
       "        }    #T_4a484bc0_19e3_11ea_a32f_71847e9e01b0row8_col4 {\n",
       "            background-color:  #3b4cc0;\n",
       "            color:  #f1f1f1;\n",
       "        }    #T_4a484bc0_19e3_11ea_a32f_71847e9e01b0row8_col5 {\n",
       "            background-color:  #3b4cc0;\n",
       "            color:  #f1f1f1;\n",
       "        }    #T_4a484bc0_19e3_11ea_a32f_71847e9e01b0row8_col6 {\n",
       "            background-color:  #f5c1a9;\n",
       "            color:  #000000;\n",
       "        }    #T_4a484bc0_19e3_11ea_a32f_71847e9e01b0row8_col7 {\n",
       "            background-color:  #afcafc;\n",
       "            color:  #000000;\n",
       "        }    #T_4a484bc0_19e3_11ea_a32f_71847e9e01b0row8_col8 {\n",
       "            background-color:  #b40426;\n",
       "            color:  #f1f1f1;\n",
       "        }</style><table id=\"T_4a484bc0_19e3_11ea_a32f_71847e9e01b0\" ><thead>    <tr>        <th class=\"blank level0\" ></th>        <th class=\"col_heading level0 col0\" >schedule_season</th>        <th class=\"col_heading level0 col1\" >spread_favorite</th>        <th class=\"col_heading level0 col2\" >over_under_line</th>        <th class=\"col_heading level0 col3\" >score_home</th>        <th class=\"col_heading level0 col4\" >score_away</th>        <th class=\"col_heading level0 col5\" >stadium_neutral</th>        <th class=\"col_heading level0 col6\" >home_fav</th>        <th class=\"col_heading level0 col7\" >away_fav</th>        <th class=\"col_heading level0 col8\" >result</th>    </tr></thead><tbody>\n",
       "                <tr>\n",
       "                        <th id=\"T_4a484bc0_19e3_11ea_a32f_71847e9e01b0level0_row0\" class=\"row_heading level0 row0\" >schedule_season</th>\n",
       "                        <td id=\"T_4a484bc0_19e3_11ea_a32f_71847e9e01b0row0_col0\" class=\"data row0 col0\" >1</td>\n",
       "                        <td id=\"T_4a484bc0_19e3_11ea_a32f_71847e9e01b0row0_col1\" class=\"data row0 col1\" >-0.021</td>\n",
       "                        <td id=\"T_4a484bc0_19e3_11ea_a32f_71847e9e01b0row0_col2\" class=\"data row0 col2\" >0.33</td>\n",
       "                        <td id=\"T_4a484bc0_19e3_11ea_a32f_71847e9e01b0row0_col3\" class=\"data row0 col3\" >0.063</td>\n",
       "                        <td id=\"T_4a484bc0_19e3_11ea_a32f_71847e9e01b0row0_col4\" class=\"data row0 col4\" >0.085</td>\n",
       "                        <td id=\"T_4a484bc0_19e3_11ea_a32f_71847e9e01b0row0_col5\" class=\"data row0 col5\" >0.012</td>\n",
       "                        <td id=\"T_4a484bc0_19e3_11ea_a32f_71847e9e01b0row0_col6\" class=\"data row0 col6\" >-0.0088</td>\n",
       "                        <td id=\"T_4a484bc0_19e3_11ea_a32f_71847e9e01b0row0_col7\" class=\"data row0 col7\" >0.026</td>\n",
       "                        <td id=\"T_4a484bc0_19e3_11ea_a32f_71847e9e01b0row0_col8\" class=\"data row0 col8\" >-0.0065</td>\n",
       "            </tr>\n",
       "            <tr>\n",
       "                        <th id=\"T_4a484bc0_19e3_11ea_a32f_71847e9e01b0level0_row1\" class=\"row_heading level0 row1\" >spread_favorite</th>\n",
       "                        <td id=\"T_4a484bc0_19e3_11ea_a32f_71847e9e01b0row1_col0\" class=\"data row1 col0\" >-0.021</td>\n",
       "                        <td id=\"T_4a484bc0_19e3_11ea_a32f_71847e9e01b0row1_col1\" class=\"data row1 col1\" >1</td>\n",
       "                        <td id=\"T_4a484bc0_19e3_11ea_a32f_71847e9e01b0row1_col2\" class=\"data row1 col2\" >-0.059</td>\n",
       "                        <td id=\"T_4a484bc0_19e3_11ea_a32f_71847e9e01b0row1_col3\" class=\"data row1 col3\" >-0.15</td>\n",
       "                        <td id=\"T_4a484bc0_19e3_11ea_a32f_71847e9e01b0row1_col4\" class=\"data row1 col4\" >0.12</td>\n",
       "                        <td id=\"T_4a484bc0_19e3_11ea_a32f_71847e9e01b0row1_col5\" class=\"data row1 col5\" >-0.014</td>\n",
       "                        <td id=\"T_4a484bc0_19e3_11ea_a32f_71847e9e01b0row1_col6\" class=\"data row1 col6\" >-0.23</td>\n",
       "                        <td id=\"T_4a484bc0_19e3_11ea_a32f_71847e9e01b0row1_col7\" class=\"data row1 col7\" >0.18</td>\n",
       "                        <td id=\"T_4a484bc0_19e3_11ea_a32f_71847e9e01b0row1_col8\" class=\"data row1 col8\" >-0.15</td>\n",
       "            </tr>\n",
       "            <tr>\n",
       "                        <th id=\"T_4a484bc0_19e3_11ea_a32f_71847e9e01b0level0_row2\" class=\"row_heading level0 row2\" >over_under_line</th>\n",
       "                        <td id=\"T_4a484bc0_19e3_11ea_a32f_71847e9e01b0row2_col0\" class=\"data row2 col0\" >0.33</td>\n",
       "                        <td id=\"T_4a484bc0_19e3_11ea_a32f_71847e9e01b0row2_col1\" class=\"data row2 col1\" >-0.059</td>\n",
       "                        <td id=\"T_4a484bc0_19e3_11ea_a32f_71847e9e01b0row2_col2\" class=\"data row2 col2\" >1</td>\n",
       "                        <td id=\"T_4a484bc0_19e3_11ea_a32f_71847e9e01b0row2_col3\" class=\"data row2 col3\" >0.21</td>\n",
       "                        <td id=\"T_4a484bc0_19e3_11ea_a32f_71847e9e01b0row2_col4\" class=\"data row2 col4\" >0.2</td>\n",
       "                        <td id=\"T_4a484bc0_19e3_11ea_a32f_71847e9e01b0row2_col5\" class=\"data row2 col5\" >0.05</td>\n",
       "                        <td id=\"T_4a484bc0_19e3_11ea_a32f_71847e9e01b0row2_col6\" class=\"data row2 col6\" >0.0059</td>\n",
       "                        <td id=\"T_4a484bc0_19e3_11ea_a32f_71847e9e01b0row2_col7\" class=\"data row2 col7\" >0.0016</td>\n",
       "                        <td id=\"T_4a484bc0_19e3_11ea_a32f_71847e9e01b0row2_col8\" class=\"data row2 col8\" >0.005</td>\n",
       "            </tr>\n",
       "            <tr>\n",
       "                        <th id=\"T_4a484bc0_19e3_11ea_a32f_71847e9e01b0level0_row3\" class=\"row_heading level0 row3\" >score_home</th>\n",
       "                        <td id=\"T_4a484bc0_19e3_11ea_a32f_71847e9e01b0row3_col0\" class=\"data row3 col0\" >0.063</td>\n",
       "                        <td id=\"T_4a484bc0_19e3_11ea_a32f_71847e9e01b0row3_col1\" class=\"data row3 col1\" >-0.15</td>\n",
       "                        <td id=\"T_4a484bc0_19e3_11ea_a32f_71847e9e01b0row3_col2\" class=\"data row3 col2\" >0.21</td>\n",
       "                        <td id=\"T_4a484bc0_19e3_11ea_a32f_71847e9e01b0row3_col3\" class=\"data row3 col3\" >1</td>\n",
       "                        <td id=\"T_4a484bc0_19e3_11ea_a32f_71847e9e01b0row3_col4\" class=\"data row3 col4\" >-0.023</td>\n",
       "                        <td id=\"T_4a484bc0_19e3_11ea_a32f_71847e9e01b0row3_col5\" class=\"data row3 col5\" >0.0012</td>\n",
       "                        <td id=\"T_4a484bc0_19e3_11ea_a32f_71847e9e01b0row3_col6\" class=\"data row3 col6\" >0.22</td>\n",
       "                        <td id=\"T_4a484bc0_19e3_11ea_a32f_71847e9e01b0row3_col7\" class=\"data row3 col7\" >-0.22</td>\n",
       "                        <td id=\"T_4a484bc0_19e3_11ea_a32f_71847e9e01b0row3_col8\" class=\"data row3 col8\" >0.55</td>\n",
       "            </tr>\n",
       "            <tr>\n",
       "                        <th id=\"T_4a484bc0_19e3_11ea_a32f_71847e9e01b0level0_row4\" class=\"row_heading level0 row4\" >score_away</th>\n",
       "                        <td id=\"T_4a484bc0_19e3_11ea_a32f_71847e9e01b0row4_col0\" class=\"data row4 col0\" >0.085</td>\n",
       "                        <td id=\"T_4a484bc0_19e3_11ea_a32f_71847e9e01b0row4_col1\" class=\"data row4 col1\" >0.12</td>\n",
       "                        <td id=\"T_4a484bc0_19e3_11ea_a32f_71847e9e01b0row4_col2\" class=\"data row4 col2\" >0.2</td>\n",
       "                        <td id=\"T_4a484bc0_19e3_11ea_a32f_71847e9e01b0row4_col3\" class=\"data row4 col3\" >-0.023</td>\n",
       "                        <td id=\"T_4a484bc0_19e3_11ea_a32f_71847e9e01b0row4_col4\" class=\"data row4 col4\" >1</td>\n",
       "                        <td id=\"T_4a484bc0_19e3_11ea_a32f_71847e9e01b0row4_col5\" class=\"data row4 col5\" >0.023</td>\n",
       "                        <td id=\"T_4a484bc0_19e3_11ea_a32f_71847e9e01b0row4_col6\" class=\"data row4 col6\" >-0.23</td>\n",
       "                        <td id=\"T_4a484bc0_19e3_11ea_a32f_71847e9e01b0row4_col7\" class=\"data row4 col7\" >0.23</td>\n",
       "                        <td id=\"T_4a484bc0_19e3_11ea_a32f_71847e9e01b0row4_col8\" class=\"data row4 col8\" >-0.57</td>\n",
       "            </tr>\n",
       "            <tr>\n",
       "                        <th id=\"T_4a484bc0_19e3_11ea_a32f_71847e9e01b0level0_row5\" class=\"row_heading level0 row5\" >stadium_neutral</th>\n",
       "                        <td id=\"T_4a484bc0_19e3_11ea_a32f_71847e9e01b0row5_col0\" class=\"data row5 col0\" >0.012</td>\n",
       "                        <td id=\"T_4a484bc0_19e3_11ea_a32f_71847e9e01b0row5_col1\" class=\"data row5 col1\" >-0.014</td>\n",
       "                        <td id=\"T_4a484bc0_19e3_11ea_a32f_71847e9e01b0row5_col2\" class=\"data row5 col2\" >0.05</td>\n",
       "                        <td id=\"T_4a484bc0_19e3_11ea_a32f_71847e9e01b0row5_col3\" class=\"data row5 col3\" >0.0012</td>\n",
       "                        <td id=\"T_4a484bc0_19e3_11ea_a32f_71847e9e01b0row5_col4\" class=\"data row5 col4\" >0.023</td>\n",
       "                        <td id=\"T_4a484bc0_19e3_11ea_a32f_71847e9e01b0row5_col5\" class=\"data row5 col5\" >1</td>\n",
       "                        <td id=\"T_4a484bc0_19e3_11ea_a32f_71847e9e01b0row5_col6\" class=\"data row5 col6\" >-0.021</td>\n",
       "                        <td id=\"T_4a484bc0_19e3_11ea_a32f_71847e9e01b0row5_col7\" class=\"data row5 col7\" >0.024</td>\n",
       "                        <td id=\"T_4a484bc0_19e3_11ea_a32f_71847e9e01b0row5_col8\" class=\"data row5 col8\" >-0.02</td>\n",
       "            </tr>\n",
       "            <tr>\n",
       "                        <th id=\"T_4a484bc0_19e3_11ea_a32f_71847e9e01b0level0_row6\" class=\"row_heading level0 row6\" >home_fav</th>\n",
       "                        <td id=\"T_4a484bc0_19e3_11ea_a32f_71847e9e01b0row6_col0\" class=\"data row6 col0\" >-0.0088</td>\n",
       "                        <td id=\"T_4a484bc0_19e3_11ea_a32f_71847e9e01b0row6_col1\" class=\"data row6 col1\" >-0.23</td>\n",
       "                        <td id=\"T_4a484bc0_19e3_11ea_a32f_71847e9e01b0row6_col2\" class=\"data row6 col2\" >0.0059</td>\n",
       "                        <td id=\"T_4a484bc0_19e3_11ea_a32f_71847e9e01b0row6_col3\" class=\"data row6 col3\" >0.22</td>\n",
       "                        <td id=\"T_4a484bc0_19e3_11ea_a32f_71847e9e01b0row6_col4\" class=\"data row6 col4\" >-0.23</td>\n",
       "                        <td id=\"T_4a484bc0_19e3_11ea_a32f_71847e9e01b0row6_col5\" class=\"data row6 col5\" >-0.021</td>\n",
       "                        <td id=\"T_4a484bc0_19e3_11ea_a32f_71847e9e01b0row6_col6\" class=\"data row6 col6\" >1</td>\n",
       "                        <td id=\"T_4a484bc0_19e3_11ea_a32f_71847e9e01b0row6_col7\" class=\"data row6 col7\" >-0.97</td>\n",
       "                        <td id=\"T_4a484bc0_19e3_11ea_a32f_71847e9e01b0row6_col8\" class=\"data row6 col8\" >0.28</td>\n",
       "            </tr>\n",
       "            <tr>\n",
       "                        <th id=\"T_4a484bc0_19e3_11ea_a32f_71847e9e01b0level0_row7\" class=\"row_heading level0 row7\" >away_fav</th>\n",
       "                        <td id=\"T_4a484bc0_19e3_11ea_a32f_71847e9e01b0row7_col0\" class=\"data row7 col0\" >0.026</td>\n",
       "                        <td id=\"T_4a484bc0_19e3_11ea_a32f_71847e9e01b0row7_col1\" class=\"data row7 col1\" >0.18</td>\n",
       "                        <td id=\"T_4a484bc0_19e3_11ea_a32f_71847e9e01b0row7_col2\" class=\"data row7 col2\" >0.0016</td>\n",
       "                        <td id=\"T_4a484bc0_19e3_11ea_a32f_71847e9e01b0row7_col3\" class=\"data row7 col3\" >-0.22</td>\n",
       "                        <td id=\"T_4a484bc0_19e3_11ea_a32f_71847e9e01b0row7_col4\" class=\"data row7 col4\" >0.23</td>\n",
       "                        <td id=\"T_4a484bc0_19e3_11ea_a32f_71847e9e01b0row7_col5\" class=\"data row7 col5\" >0.024</td>\n",
       "                        <td id=\"T_4a484bc0_19e3_11ea_a32f_71847e9e01b0row7_col6\" class=\"data row7 col6\" >-0.97</td>\n",
       "                        <td id=\"T_4a484bc0_19e3_11ea_a32f_71847e9e01b0row7_col7\" class=\"data row7 col7\" >1</td>\n",
       "                        <td id=\"T_4a484bc0_19e3_11ea_a32f_71847e9e01b0row7_col8\" class=\"data row7 col8\" >-0.28</td>\n",
       "            </tr>\n",
       "            <tr>\n",
       "                        <th id=\"T_4a484bc0_19e3_11ea_a32f_71847e9e01b0level0_row8\" class=\"row_heading level0 row8\" >result</th>\n",
       "                        <td id=\"T_4a484bc0_19e3_11ea_a32f_71847e9e01b0row8_col0\" class=\"data row8 col0\" >-0.0065</td>\n",
       "                        <td id=\"T_4a484bc0_19e3_11ea_a32f_71847e9e01b0row8_col1\" class=\"data row8 col1\" >-0.15</td>\n",
       "                        <td id=\"T_4a484bc0_19e3_11ea_a32f_71847e9e01b0row8_col2\" class=\"data row8 col2\" >0.005</td>\n",
       "                        <td id=\"T_4a484bc0_19e3_11ea_a32f_71847e9e01b0row8_col3\" class=\"data row8 col3\" >0.55</td>\n",
       "                        <td id=\"T_4a484bc0_19e3_11ea_a32f_71847e9e01b0row8_col4\" class=\"data row8 col4\" >-0.57</td>\n",
       "                        <td id=\"T_4a484bc0_19e3_11ea_a32f_71847e9e01b0row8_col5\" class=\"data row8 col5\" >-0.02</td>\n",
       "                        <td id=\"T_4a484bc0_19e3_11ea_a32f_71847e9e01b0row8_col6\" class=\"data row8 col6\" >0.28</td>\n",
       "                        <td id=\"T_4a484bc0_19e3_11ea_a32f_71847e9e01b0row8_col7\" class=\"data row8 col7\" >-0.28</td>\n",
       "                        <td id=\"T_4a484bc0_19e3_11ea_a32f_71847e9e01b0row8_col8\" class=\"data row8 col8\" >1</td>\n",
       "            </tr>\n",
       "    </tbody></table>"
      ],
      "text/plain": [
       "<pandas.io.formats.style.Styler at 0x7f22f3563d30>"
      ]
     },
     "execution_count": 6,
     "metadata": {},
     "output_type": "execute_result"
    }
   ],
   "source": [
    "corr = data.corr()\n",
    "corr.style.background_gradient(cmap='coolwarm').set_precision(3)"
   ]
  },
  {
   "cell_type": "code",
   "execution_count": 7,
   "metadata": {},
   "outputs": [
    {
     "name": "stdout",
     "output_type": "stream",
     "text": [
      "Home win percentage = %58.0\n",
      "Away win percentage = %42.0\n",
      "Favored win percentage = %65.16\n"
     ]
    }
   ],
   "source": [
    "win_percentage = round(sum(data.result)/len(data.result),2)\n",
    "fav_percentage = sum(((data.home_fav == 1) & (data.result == 1)) | ((data.away_fav == 1) & (data.result == 0))) / len(data.result)\n",
    "\n",
    "print(\"Home win  = %{}\".format(round(win_percentage*100, 2)))\n",
    "print(\"Away win percentage = %{}\".format(round((1 - win_percentage)*100, 2)))\n",
    "print(\"Favored win percentage = %{}\".format(round((fav_percentage)*100, 2)))"
   ]
  },
  {
   "cell_type": "markdown",
   "metadata": {},
   "source": [
    "### Machine Learning"
   ]
  },
  {
   "cell_type": "code",
   "execution_count": 8,
   "metadata": {},
   "outputs": [
    {
     "name": "stdout",
     "output_type": "stream",
     "text": [
      "0.688036 (0.013721)\n",
      "0.6369168356997972\n"
     ]
    },
    {
     "data": {
      "text/html": [
       "<div>\n",
       "<style scoped>\n",
       "    .dataframe tbody tr th:only-of-type {\n",
       "        vertical-align: middle;\n",
       "    }\n",
       "\n",
       "    .dataframe tbody tr th {\n",
       "        vertical-align: top;\n",
       "    }\n",
       "\n",
       "    .dataframe thead th {\n",
       "        text-align: right;\n",
       "    }\n",
       "</style>\n",
       "<table border=\"1\" class=\"dataframe\">\n",
       "  <thead>\n",
       "    <tr style=\"text-align: right;\">\n",
       "      <th></th>\n",
       "      <th>Predicted Loss</th>\n",
       "      <th>Predicted Win</th>\n",
       "    </tr>\n",
       "  </thead>\n",
       "  <tbody>\n",
       "    <tr>\n",
       "      <th>True Loss</th>\n",
       "      <td>400</td>\n",
       "      <td>413</td>\n",
       "    </tr>\n",
       "    <tr>\n",
       "      <th>True Win</th>\n",
       "      <td>303</td>\n",
       "      <td>856</td>\n",
       "    </tr>\n",
       "  </tbody>\n",
       "</table>\n",
       "</div>"
      ],
      "text/plain": [
       "           Predicted Loss  Predicted Win\n",
       "True Loss             400            413\n",
       "True Win              303            856"
      ]
     },
     "execution_count": 8,
     "metadata": {},
     "output_type": "execute_result"
    }
   ],
   "source": [
    "X = data[['over_under_line','spread_favorite','home_fav']]\n",
    "y = data['result']\n",
    "results=[]\n",
    "\n",
    "X_train, X_test, y_train, y_test = train_test_split(X, y, train_size=0.8, test_size=0.2, random_state=1)\n",
    "classifier = DecisionTreeClassifier(min_samples_split=2, max_depth=5)\n",
    "\n",
    "kfold = model_selection.KFold(n_splits=5, random_state=0)\n",
    "cv_results = model_selection.cross_val_score(classifier, X, y, cv=kfold, scoring = 'roc_auc')\n",
    "results.append(cv_results)\n",
    "\n",
    "msg = \"%f (%f)\" % (cv_results.mean(), cv_results.std())\n",
    "\n",
    "print(msg)\n",
    "classifier.fit(X_train,y_train)\n",
    "y_predict = classifier.predict(X_test)\n",
    "\n",
    "print(accuracy_score(y_test, y_predict))\n",
    "\n",
    "pd.DataFrame(\n",
    "    confusion_matrix(y_test, y_predict),\n",
    "    columns=['Predicted Loss', 'Predicted Win'],\n",
    "    index=['True Loss', 'True Win']\n",
    ")"
   ]
  },
  {
   "cell_type": "markdown",
   "metadata": {},
   "source": [
    "## ML Model"
   ]
  },
  {
   "cell_type": "code",
   "execution_count": 9,
   "metadata": {},
   "outputs": [
    {
     "name": "stderr",
     "output_type": "stream",
     "text": [
      "/home/liam/anaconda3/lib/python3.7/site-packages/sklearn/utils/validation.py:724: DataConversionWarning: A column-vector y was passed when a 1d array was expected. Please change the shape of y to (n_samples, ), for example using ravel().\n",
      "  y = column_or_1d(y, warn=True)\n"
     ]
    },
    {
     "name": "stdout",
     "output_type": "stream",
     "text": [
      "Metrics\t\tMy Model\n",
      "ROC AUC Score: \t0.6914\n",
      "Brier Score: \t0.2164\n",
      "[0.71931861 0.67301296 0.60627967 ... 0.85841993 0.79370224 0.43980672]\n"
     ]
    }
   ],
   "source": [
    "X = data[['over_under_line','spread_favorite','home_fav']]\n",
    "y = data[['result']]\n",
    "\n",
    "X_train, X_test, y_train, y_test = train_test_split(X, y, train_size=0.80, test_size=0.20, random_state=1)\n",
    "\n",
    "gnb = GaussianNB()\n",
    "dtc = DecisionTreeClassifier(max_depth=5, criterion='entropy')\n",
    "lrg = LogisticRegression(solver='liblinear')\n",
    "vote = VotingClassifier(estimators=[('dtc', dtc), ('lrg', lrg)], voting='soft')\n",
    "\n",
    "model = CCV(vote, method='isotonic', cv=3)\n",
    "model.fit(X_train, y_train)\n",
    "\n",
    "predicted = model.predict_proba(X_test)[:,1]\n",
    "\n",
    "# ROC AUC Score and Brier Score\n",
    "print(\"Metrics\" + \"\\t\\t\" + \"My Model\")\n",
    "print(\"ROC AUC Score: \" +  \"\\t\" + \"{:.4f}\".format(roc_auc_score(y_test, predicted)))\n",
    "print(\"Brier Score: \" + \"\\t\" + \"{:.4f}\".format(brier_score_loss(y_test, predicted)))\n",
    "print(predicted)\n"
   ]
  },
  {
   "cell_type": "code",
   "execution_count": 10,
   "metadata": {},
   "outputs": [
    {
     "name": "stdout",
     "output_type": "stream",
     "text": [
      "Model Win Percentage: 0.6924\n",
      "Total Number of Bets Won: 1067\n",
      "Total Number of Bets Made: 1541\n",
      "Possible Games: 1972\n"
     ]
    }
   ],
   "source": [
    "test = X_test.copy()\n",
    "test.loc[:,'hm_prob'] = predicted\n",
    "test.loc[:, 'result'] = y\n",
    "\n",
    "test['my_bet_won'] = (((test.hm_prob >= 0.55) & (y.result == 1)) | ((test.hm_prob <= 0.40) & (test.result == 0))).astype(int)\n",
    "test['my_bet_lost'] = (((test.hm_prob >= 0.55) & (y.result == 0)) | ((test.hm_prob <= 0.40) & (test.result == 1))).astype(int)\n",
    "\n",
    "print(\"Model Win Percentage: \" + \"{:.4f}\".format(test.my_bet_won.sum() / (test.my_bet_lost.sum() + test.my_bet_won.sum())))\n",
    "\n",
    "print(\"Total Number of Bets Won: \" + str(test.my_bet_won.sum()))\n",
    "print(\"Total Number of Bets Made: \" + str((test.my_bet_lost.sum() + test.my_bet_won.sum())))\n",
    "print(\"Possible Games: \" + str(len(test)))\n"
   ]
  },
  {
   "cell_type": "code",
   "execution_count": 81,
   "metadata": {},
   "outputs": [],
   "source": [
    "# set params\n",
    "nn = Sequential()\n",
    "nn.add(Dense(100, activation='relu', kernel_initializer='random_normal', input_dim=3))\n",
    "nn.add(Dense(100, activation='relu', kernel_initializer='random_normal'))\n",
    "nn.add(Dense(1, activation='sigmoid', kernel_initializer='random_normal'))\n",
    "nn.compile(optimizer='adam', loss='binary_crossentropy', metrics=['accuracy'])"
   ]
  },
  {
   "cell_type": "code",
   "execution_count": 82,
   "metadata": {},
   "outputs": [
    {
     "name": "stdout",
     "output_type": "stream",
     "text": [
      "Train on 7888 samples\n",
      "Epoch 1/10\n",
      "7888/7888 [==============================] - 8s 968us/sample - loss: 0.6599 - acc: 0.5944\n",
      "Epoch 2/10\n",
      "7888/7888 [==============================] - 6s 775us/sample - loss: 0.6359 - acc: 0.6485\n",
      "Epoch 3/10\n",
      "7888/7888 [==============================] - 6s 700us/sample - loss: 0.6281 - acc: 0.6557\n",
      "Epoch 4/10\n",
      "7888/7888 [==============================] - 5s 605us/sample - loss: 0.6250 - acc: 0.6578\n",
      "Epoch 5/10\n",
      "7888/7888 [==============================] - 5s 619us/sample - loss: 0.6229 - acc: 0.6572\n",
      "Epoch 6/10\n",
      "7888/7888 [==============================] - 7s 901us/sample - loss: 0.6219 - acc: 0.6556\n",
      "Epoch 7/10\n",
      "7888/7888 [==============================] - 6s 703us/sample - loss: 0.6229 - acc: 0.6587\n",
      "Epoch 8/10\n",
      "7888/7888 [==============================] - 5s 638us/sample - loss: 0.6221 - acc: 0.6590s - l\n",
      "Epoch 9/10\n",
      "7888/7888 [==============================] - 5s 599us/sample - loss: 0.6217 - acc: 0.6583\n",
      "Epoch 10/10\n",
      "7888/7888 [==============================] - 5s 586us/sample - loss: 0.6213 - acc: 0.6592\n"
     ]
    }
   ],
   "source": [
    "# train model\n",
    "history = nn.fit(X_train, y_train, batch_size=10, epochs=10)"
   ]
  },
  {
   "cell_type": "code",
   "execution_count": 83,
   "metadata": {},
   "outputs": [
    {
     "name": "stdout",
     "output_type": "stream",
     "text": [
      "7888/7888 [==============================] - 1s 174us/sample - loss: 0.6184 - acc: 0.6594\n"
     ]
    }
   ],
   "source": [
    "nnEval = nn.evaluate(X_train, y_train)"
   ]
  },
  {
   "cell_type": "code",
   "execution_count": 84,
   "metadata": {},
   "outputs": [
    {
     "data": {
      "text/plain": [
       "Text(0, 0.5, 'Loss')"
      ]
     },
     "execution_count": 84,
     "metadata": {},
     "output_type": "execute_result"
    },
    {
     "data": {
      "image/png": "[encoded data removed]",
      "text/plain": [
       "<Figure size 432x288 with 1 Axes>"
      ]
     },
     "metadata": {
      "needs_background": "light"
     },
     "output_type": "display_data"
    }
   ],
   "source": [
    "plt.plot(history.history['loss'])\n",
    "plt.xlabel('Epoch')\n",
    "plt.ylabel('Loss')"
   ]
  },
  {
   "cell_type": "code",
   "execution_count": 54,
   "metadata": {},
   "outputs": [
    {
     "data": {
      "text/plain": [
       "array([[ True],\n",
       "       [ True],\n",
       "       [ True],\n",
       "       ...,\n",
       "       [ True],\n",
       "       [ True],\n",
       "       [False]])"
      ]
     },
     "execution_count": 54,
     "metadata": {},
     "output_type": "execute_result"
    }
   ],
   "source": [
    "y_pred = nn.predict(X_test)\n",
    "y_pred = (y_pred>0.5)\n",
    "y_pred"
   ]
  },
  {
   "cell_type": "code",
   "execution_count": 55,
   "metadata": {},
   "outputs": [
    {
     "data": {
      "text/plain": [
       "[Text(0, 0.5, 'away'), Text(0, 1.5, 'home')]"
      ]
     },
     "execution_count": 55,
     "metadata": {},
     "output_type": "execute_result"
    },
    {
     "data": {
      "image/png": "[encoded data removed]",
      "text/plain": [
       "<Figure size 432x288 with 2 Axes>"
      ]
     },
     "metadata": {
      "needs_background": "light"
     },
     "output_type": "display_data"
    }
   ],
   "source": [
    "values = [0, 1]\n",
    "labels = ['away', 'home']\n",
    "cm = confusion_matrix(y_test, y_pred, values)\n",
    "ax = plt.subplot()\n",
    "sb.heatmap(cm, annot=True, ax=ax, fmt='g', cmap='binary')\n",
    "ax.set_xlabel('Predicted')\n",
    "ax.set_ylabel('Actual')\n",
    "ax.set_title('Confusion Matrix')\n",
    "ax.xaxis.set_ticklabels(labels)\n",
    "ax.yaxis.set_ticklabels(labels)"
   ]
  }
 ],
 "metadata": {
  "kernelspec": {
   "display_name": "Python 3",
   "language": "python",
   "name": "python3"
  },
  "language_info": {
   "codemirror_mode": {
    "name": "ipython",
    "version": 3
   },
   "file_extension": ".py",
   "mimetype": "text/x-python",
   "name": "python",
   "nbconvert_exporter": "python",
   "pygments_lexer": "ipython3",
   "version": "3.6.12"
  }
 },
 "nbformat": 4,
 "nbformat_minor": 2
}
